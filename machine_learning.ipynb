{
 "cells": [
  {
   "cell_type": "markdown",
   "metadata": {
    "id": "IBb6nSAY5T4I"
   },
   "source": [
    "# Machine Learning"
   ]
  },
  {
   "cell_type": "markdown",
   "metadata": {
    "id": "N02Qu9_f1N45"
   },
   "source": [
    "1. For each of the following examples describe at least one possible input and\n",
    "output. Justify your answers:  \n",
    "* 1.1 A self-driving car\n",
    "* 1.2 Netflix recommendation system\n",
    "* 1.3 Signature recognition\n",
    "* 1.4 Medical diagnosis\n"
   ]
  },
  {
   "cell_type": "markdown",
   "metadata": {
    "id": "-8aBqprP3ypo"
   },
   "source": [
    "1. Answer here\n",
    "\n",
    "|      | Input(s)          | Output                           |\n",
    "| ---- | ----------------- | -------------------------------  |\n",
    "| 1.1  |GPS                |Traffic rules                     |\n",
    "| 1.2  |Viewing history    |Recommendation of preferred movie |\n",
    "| 1.3  |Signatures         |Verification of signatures        |\n",
    "| 1.4  |Patient symptoms   |Diagnosis of medical condition    |"
   ]
  },
  {
   "cell_type": "markdown",
   "metadata": {
    "id": "l_I2f4C85yNF"
   },
   "source": [
    "\n",
    "2. For each of the following case studies, determine whether it is appropriate to utilise regression or classification machine learning algorithms. Justify your answers:\n",
    "* 2.1 Classifying emails as promotion or social based on their content and metadata.\n",
    "* 2.2 Forecasting the stock price of a company based on historical data and market trends.\n",
    "* 2.3 Sorting images of animals into different species based on their visual features.\n",
    "* 2.4 Predicting the likelihood of a patient having a particular disease based on medical history and diagnostic test results."
   ]
  },
  {
   "cell_type": "markdown",
   "metadata": {
    "id": "WgMUsqQr6qFU"
   },
   "source": [
    "2. Answer here\n",
    "* 2.1Appropriate Algorithm: Classification\n",
    "Justification: This is a typical classification problem where the task is to assign each email to one of the predefined categories (promotional or social) based on features such as content and metadata.\n",
    "* 2.2 Appropriate Algorithm: Regression\n",
    "Justification: This problem involves predicting a continuous variable (stock price) based on historical data and market trends. Regression algorithms are suitable for predicting continuous outcomes.\n",
    "* 2.3 Appropriate Algorithm: Classification\n",
    "Justification: Similar to 2.1, this is a classification problem where the goal is to categorize images into different classes (animal species) based on their visual features.\n",
    "* 2.4 Appropriate Algorithm: Classification\n",
    "Justification: Like 2.1 and 2.3, this is a classification problem where the objective is to predict whether a patient has a disease or not based on their medical history and test results."
   ]
  },
  {
   "cell_type": "markdown",
   "metadata": {
    "id": "b6f8UETG64hH"
   },
   "source": [
    "3. For each of the following real-world problems, determine whether it is appropriate to utilise a supervised or unsupervised machine learning algorithm. Justify your answers:\n",
    "* 3.1 Detecting anomalies in a manufacturing process using sensor data without prior knowledge of specific anomaly patterns.\n",
    "* 3.2 Predicting customer lifetime value based on historical transaction data and customer demographics.\n",
    "* 3.3 Segmenting customer demographics based on their purchase history, browsing behaviour, and preferences.\n",
    "* 3.4 Analysing social media posts to categorise them into different themes.\n"
   ]
  },
  {
   "cell_type": "markdown",
   "metadata": {
    "id": "W6dTYBvd675O"
   },
   "source": [
    "3. Answer here\n",
    "* 3.1 Appropriate Algorithm: Unsupervised Learning (Anomaly Detection)\n",
    "Justification: Anomalies are often rare and unknown patterns in the data. Unsupervised learning algorithms, particularly anomaly detection methods, are suitable for detecting such anomalies without prior knowledge of specific patterns.\n",
    "* 3.2 Appropriate Algorithm: Supervised Learning (Regression or Classification)\n",
    "Justification: Customer lifetime value is a continuous variable or a classification task (e.g., high, medium, low value), making supervised learning algorithms suitable for predicting it based on historical transaction data and customer demographics.\n",
    "* 3.3 Appropriate Algorithm: Unsupervised Learning (Clustering)\n",
    "Justification: Segmentation involves grouping similar customers together based on their characteristics without predefined labels. Clustering algorithms can identify natural groupings in the data without the need for labeled examples.\n",
    "* 3.4 Appropriate Algorithm: Classification\n",
    "Justification: Similar to 2.1 and 2.3, this is a classification problem where the objective is to categorize social media posts into different themes based on their content."
   ]
  },
  {
   "cell_type": "markdown",
   "metadata": {
    "id": "bqsun96o64xe"
   },
   "source": [
    "4.\n",
    "For each of the following real-world problems, determine whether it is appropriate to utilise semi-supervised machine learning algorithms. Justify your answers:\n",
    "* 4.1 Predicting fraudulent financial transactions using a dataset where most transactions are labelled as fraudulent or legitimate.\n",
    "* 4.2 Analysing customer satisfaction surveys where only a small portion of the data is labelled with satisfaction ratings.\n",
    "*4.3 Identifying spam emails in a dataset where the majority of emails are labelled.\n",
    "* 4.4 Predicting the probability of default for credit card applicants based on their complete financial and credit-related information.\n"
   ]
  },
  {
   "cell_type": "markdown",
   "metadata": {
    "id": "aTWugZ6q68GF"
   },
   "source": [
    "4. Answer here\n",
    "* 4.1 Appropriate Algorithm: Supervised Learning (Classification)\n",
    "Justification: This is a classification problem where the goal is to classify transactions as fraudulent or legitimate. Supervised learning algorithms are appropriate since the majority of the data is labeled.\n",
    "* 4.2 Appropriate Algorithm: Semi-Supervised Learning\n",
    "Justification: Since only a small portion of the data is labeled, semi-supervised learning algorithms, which can leverage both labeled and unlabeled data, are suitable for analyzing customer satisfaction surveys.\n",
    "* 4.3 Appropriate Algorithm: Supervised Learning (Classification)\n",
    "Justification: This is a classification problem where the objective is to classify emails as spam or not spam. Supervised learning algorithms are suitable since the majority of the emails are labeled.\n",
    "* 4.4 Appropriate Algorithm: Supervised Learning (Regression or Classification)\n",
    "Justification: Predicting the probability of default is a regression or classification task, depending on whether the outcome is continuous or discrete. Supervised learning algorithms are suitable for this predictive modeling task."
   ]
  }
 ],
 "metadata": {
  "colab": {
   "provenance": []
  },
  "kernelspec": {
   "display_name": "Python 3 (ipykernel)",
   "language": "python",
   "name": "python3"
  },
  "language_info": {
   "codemirror_mode": {
    "name": "ipython",
    "version": 3
   },
   "file_extension": ".py",
   "mimetype": "text/x-python",
   "name": "python",
   "nbconvert_exporter": "python",
   "pygments_lexer": "ipython3",
   "version": "3.12.3"
  }
 },
 "nbformat": 4,
 "nbformat_minor": 4
}
